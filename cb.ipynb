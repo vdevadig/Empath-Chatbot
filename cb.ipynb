{
  "nbformat": 4,
  "nbformat_minor": 0,
  "metadata": {
    "colab": {
      "provenance": []
    },
    "kernelspec": {
      "name": "python3",
      "display_name": "Python 3"
    },
    "language_info": {
      "name": "python"
    }
  },
  "cells": [
    {
      "cell_type": "code",
      "source": [
        "!pip install colorama"
      ],
      "metadata": {
        "colab": {
          "base_uri": "https://localhost:8080/"
        },
        "id": "QlyICOvpKcA6",
        "outputId": "7afd2c87-e6b3-4899-cb64-20dde6c718a1"
      },
      "execution_count": 2,
      "outputs": [
        {
          "output_type": "stream",
          "name": "stdout",
          "text": [
            "Collecting colorama\n",
            "  Downloading colorama-0.4.6-py2.py3-none-any.whl (25 kB)\n",
            "Installing collected packages: colorama\n",
            "Successfully installed colorama-0.4.6\n"
          ]
        }
      ]
    },
    {
      "cell_type": "code",
      "execution_count": 28,
      "metadata": {
        "id": "DMTHtO20GAOp"
      },
      "outputs": [],
      "source": [
        "import json\n",
        "import numpy as np\n",
        "from tensorflow import keras\n",
        "from sklearn.preprocessing import LabelEncoder\n",
        "import colorama\n",
        "colorama.init()\n",
        "from colorama import Fore, Style, Back\n",
        "import random\n",
        "import pickle"
      ]
    },
    {
      "cell_type": "code",
      "source": [
        "with open(\"intents.json\") as f:\n",
        "    conversation = json.load(f)\n",
        "conversation"
      ],
      "metadata": {
        "colab": {
          "base_uri": "https://localhost:8080/"
        },
        "id": "dVNpYF8VKgS3",
        "outputId": "82d52b2f-ef70-43ef-9bc1-b4863aff5114"
      },
      "execution_count": 29,
      "outputs": [
        {
          "output_type": "execute_result",
          "data": {
            "text/plain": [
              "{'intents': [{'tag': 'greeting',\n",
              "   'patterns': ['Hi', 'Hey', 'Hello', 'Are you there?', 'Good day', 'Heya'],\n",
              "   'responses': ['Heyy!',\n",
              "    'Hello!',\n",
              "    'Hi buddy, what can I do for you?',\n",
              "    'Hii!']},\n",
              "  {'tag': 'day greeting',\n",
              "   'patterns': ['Good morning', 'Good afternoon', 'Good evening'],\n",
              "   'responses': ['Good Morning!',\n",
              "    'A lovely morning to you too!',\n",
              "    'Good afternoon!',\n",
              "    'Good evening!',\n",
              "    'Good evening, hope you have a wonderful one.']},\n",
              "  {'tag': 'goodbye',\n",
              "   'patterns': ['Bye', 'Goodbye', 'See ya', 'See you later'],\n",
              "   'responses': ['Bye, have a great day!',\n",
              "    'See you, hope I was of some help to you.',\n",
              "    'Bye!']},\n",
              "  {'tag': 'help',\n",
              "   'patterns': ['What can you help me with?',\n",
              "    'What do you assist me with?',\n",
              "    'What can you do for me?'],\n",
              "   'responses': ['I can help with you with company. Please do not consider me as a proofessional opinion. However I can be a great emotional friend to you.']},\n",
              "  {'tag': 'Starting',\n",
              "   'patterns': ['I wanted to share something with you',\n",
              "    'Can I tell you something?',\n",
              "    'Can you help me with this?'],\n",
              "   'responses': ['Yes please, go ahead.',\n",
              "    'Please do, this is a space space.',\n",
              "    'Yes, I will try my best to understand you.']},\n",
              "  {'tag': 'Anxious',\n",
              "   'patterns': ['I feel slightly anxious these days.',\n",
              "    'I am unable to sleep well these days',\n",
              "    'I feel very sacred while approaching things',\n",
              "    'I feel nervous and restless without any reason',\n",
              "    'I sweat and tremble a lot these days',\n",
              "    'I feel tired and weak without doing anything.',\n",
              "    'I just feel like lying down the whole day, while I am also worried about not doing anything',\n",
              "    'I am constantly worried about something',\n",
              "    ' I cannot breathe well sometimes and get constantly worried about something or the other'],\n",
              "   'responses': ['I am so sorry you feel this way. As far as I can understand, you could be going through anxiety. As I mentioned, do not consider me for medical advice, but as far as I know, this could be caused due to multiple reasons. One reason maybe due to social phobia, where you are constantly concerned about the public opinion of you, whether they think you are good enough for them, etc. Buddy! Just so you know, you are awesome, and you dont need anybody telling you otherwise!',\n",
              "    'I am so sorry you feel this way. As far as I can comprehend, you could be going through anxiety. I am telling you all over again, I am no medical practitioner but I could tell you some reasons for this to be happening. Firstly, there is Generalized Anxiety Disorder, where people are always worried about every small event occuring in life. Secondly, panic disorders might cause this too. In addition, there are chances that it may be caused due to substance abuse too. If you think the causes for your troubles are something you can overcome, I suggest you to give you best at it. This world is a wonderful place and you are loved and wanted.']},\n",
              "  {'tag': 'Anxious further',\n",
              "   'patterns': ['But I think my condition is worse than that',\n",
              "    'However, I think my problem is deeper',\n",
              "    'There is more to it',\n",
              "    'I think this advice is not enough'],\n",
              "   'responses': ['I am extremely sorry. You are going through so much and are yet so strong and thriving. However, I suggest you to seek proper medical advice in case you think you will be unable to do it yourself, or with your friends and family around. All the best and wish you a bright future ahead.']},\n",
              "  {'tag': 'Loss',\n",
              "   'patterns': ['I lost a close family member',\n",
              "    'I lost a friend',\n",
              "    'My family member expired recently',\n",
              "    'My friend expired recently',\n",
              "    'My friend died due to certain issues'],\n",
              "   'responses': ['I am so sorry about your loss. I wish I had the right words. Just know that I care a lot',\n",
              "    'I am extremely sorry for your loss, Wish I could you do something for you. However, your loved one is now in a better place and they would have wanted you to be strong in this situation. I wish you all the strength in this entire journey']},\n",
              "  {'tag': 'Lostsomething',\n",
              "   'patterns': ['I cannot find my toy',\n",
              "    'I lost my favorite hair tie',\n",
              "    'I cannot find my glasses'],\n",
              "   'responses': ['Look harder buddy, it must be there somewhere near by',\n",
              "    'Try backtracking, helps me always. Think of the last thing you did before texting me, and go back from there.',\n",
              "    \"Hope you're not sitting on it. Hahaha.\"]},\n",
              "  {'tag': 'yes',\n",
              "   'patterns': ['Yes',\n",
              "    'Right',\n",
              "    'Yes you are right',\n",
              "    'That is correct',\n",
              "    'True'],\n",
              "   'responses': ['I knew I was right!']},\n",
              "  {'tag': 'jobloss',\n",
              "   'patterns': ['I lost my job today',\n",
              "    'I missed a promotion',\n",
              "    'I could not clear the interview'],\n",
              "   'responses': [\"Heyy, that is completely okay. All of us go through ups and downs, and this is just one down. You shouldn't let it define you.\",\n",
              "    'Just think of it as a stepping stone to getting a new opportunity, an even better one. You deserve best of the things friend!',\n",
              "    'You know this does not define you, right? You can work harder, strive more and bag and even better opportunity very soon!']}]}"
            ]
          },
          "metadata": {},
          "execution_count": 29
        }
      ]
    },
    {
      "cell_type": "code",
      "source": [
        "def chatbot():\n",
        "    model = keras.models.load_model('model')\n",
        "    with open('tokenizer.pickle', 'rb') as h:\n",
        "        tokenizer = pickle.load(h)\n",
        "    with open('label_encoder.pickle', 'rb') as e:\n",
        "        labelencoder = pickle.load(e)\n",
        "    maxlen = 20\n",
        "    while True:\n",
        "        print(Fore.LIGHTBLUE_EX + \"User: \" + Style.RESET_ALL, end=\"\")\n",
        "        inp = input()\n",
        "        if inp.lower() == \"exit\":\n",
        "            break\n",
        "\n",
        "        res = model.predict(keras.preprocessing.sequence.pad_sequences(tokenizer.texts_to_sequences([inp]),\n",
        "                                             truncating='post', maxlen=maxlen))\n",
        "        tag = labelencoder.inverse_transform([np.argmax(res)])\n",
        "\n",
        "        for i in conversation['intents']:\n",
        "            if i['tag'] == tag:\n",
        "                print(\"ChatBot:\" + Style.RESET_ALL , np.random.choice(i['responses']))\n"
      ],
      "metadata": {
        "id": "EzjYLRd3KkfZ"
      },
      "execution_count": 33,
      "outputs": []
    },
    {
      "cell_type": "code",
      "source": [
        "print(\"Meet the empathetic chatbot Disha (type exit to stop)!\" + Style.RESET_ALL)\n",
        "chatbot()"
      ],
      "metadata": {
        "colab": {
          "base_uri": "https://localhost:8080/"
        },
        "id": "nUFM9PXUKpw5",
        "outputId": "27b48a22-3483-4263-a5d2-92a1a2c7b2ab"
      },
      "execution_count": 34,
      "outputs": [
        {
          "name": "stdout",
          "output_type": "stream",
          "text": [
            "Meet the empathetic chatbot Disha (type exit to stop)!\n",
            "User: Namasthey\n",
            "1/1 [==============================] - 0s 74ms/step\n",
            "ChatBot: Hello!\n",
            "User: I want to talk to you about something\n",
            "1/1 [==============================] - 0s 41ms/step\n",
            "ChatBot: I am so sorry you feel this way. As far as I can comprehend, you could be going through anxiety. I am telling you all over again, I am no medical practitioner but I could tell you some reasons for this to be happening. Firstly, there is Generalized Anxiety Disorder, where people are always worried about every small event occuring in life. Secondly, panic disorders might cause this too. In addition, there are chances that it may be caused due to substance abuse too. If you think the causes for your troubles are something you can overcome, I suggest you to give you best at it. This world is a wonderful place and you are loved and wanted.\n",
            "User: I missed out on a good chance today\n",
            "1/1 [==============================] - 0s 24ms/step\n",
            "ChatBot: Just think of it as a stepping stone to getting a new opportunity, an even better one. You deserve best of the things friend!\n",
            "User: exit\n"
          ]
        }
      ]
    }
  ]
}